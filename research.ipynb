{
 "cells": [
  {
   "cell_type": "code",
   "execution_count": 50,
   "id": "8474bb6a-d782-43df-9c1d-3035c296fc72",
   "metadata": {},
   "outputs": [],
   "source": [
    "import pymupdf  # PyMuPDF\n",
    "import os\n",
    "\n",
    "def get_pdf_text(pdf_docs):\n",
    "    text = \"\"\n",
    "\n",
    "    # Check if the input is a directory\n",
    "    if os.path.isdir(pdf_docs):\n",
    "        # Iterate over all PDF files in the directory\n",
    "        for filename in os.listdir(pdf_docs):\n",
    "            if filename.endswith(\".pdf\"):\n",
    "                pdf_path = os.path.join(pdf_docs, filename)\n",
    "                doc = pymupdf.open(pdf_path)\n",
    "                for page in doc:\n",
    "                    text += page.get_text()\n",
    "    elif os.path.isfile(pdf_docs):\n",
    "        # Handle a single PDF file\n",
    "        doc = pymupdf.open(pdf_docs)\n",
    "        for page in doc:\n",
    "            text += page.get_text()\n",
    "    else:\n",
    "        raise ValueError(f\"The path {pdf_docs} is neither a file nor a directory.\")\n",
    "\n",
    "    return text"
   ]
  },
  {
   "cell_type": "code",
   "execution_count": 51,
   "id": "3082d08b-28bd-446c-8c63-ae6360c9b498",
   "metadata": {},
   "outputs": [],
   "source": [
    "from langchain_text_splitters import RecursiveCharacterTextSplitter\n",
    "\n",
    "text_splitter = RecursiveCharacterTextSplitter(\n",
    "    separators=[\"\\n\\n\", \"\\n\", \". \", \" \", \"\"],\n",
    "    chunk_size=1000,\n",
    "    chunk_overlap=200,\n",
    "    length_function=len\n",
    ")"
   ]
  },
  {
   "cell_type": "code",
   "execution_count": 52,
   "id": "a11a38c9-d156-440a-9476-dee04185a9be",
   "metadata": {},
   "outputs": [
    {
     "name": "stdout",
     "output_type": "stream",
     "text": [
      "73\n"
     ]
    }
   ],
   "source": [
    "chunks = text_splitter.split_text(get_pdf_text(\"pdf\"))\n",
    "print(len(chunks))"
   ]
  },
  {
   "cell_type": "code",
   "execution_count": 53,
   "id": "eade1481-a3ef-4143-8328-922fb4b1e968",
   "metadata": {},
   "outputs": [],
   "source": [
    "import google.generativeai as genai\n",
    "from dotenv import load_dotenv\n",
    "import os\n",
    "load_dotenv()\n",
    "# genai.configure(api_key=userdata.get(\"GOOGLE_API_KEY\"))\n",
    "os.environ[\"GOOGLE_API_KEY\"] = os.getenv(\"GOOGLE_API_KEY\")"
   ]
  },
  {
   "cell_type": "code",
   "execution_count": 54,
   "id": "bd001732-ab2d-4a29-9aab-5a7ac941fe44",
   "metadata": {},
   "outputs": [],
   "source": [
    "from langchain_google_genai import (\n",
    "    GoogleGenerativeAIEmbeddings,\n",
    "    ChatGoogleGenerativeAI\n",
    ")\n",
    "from langchain_chroma import Chroma\n",
    "from langchain_core.documents import Document"
   ]
  },
  {
   "cell_type": "code",
   "execution_count": 55,
   "id": "8ba09061-8944-4013-ac3d-870cb4a99b7d",
   "metadata": {},
   "outputs": [
    {
     "data": {
      "text/plain": [
       "['7f4f19d4-9209-44fd-a7c0-090bf7b8a857',\n",
       " '551d6ecd-2acc-4946-91dc-efa7100dd67a',\n",
       " 'cc84ac43-f217-4f1b-8fd7-fc6a0d03d7ec',\n",
       " '62281ece-7500-42c6-a127-2bf6d560e9ee',\n",
       " '9995a9b0-678c-42ab-89c2-85cc1199c0ba',\n",
       " 'da9e6d22-eb62-40c0-a877-c638ef32ac5d',\n",
       " 'a1357ea3-1184-4653-adeb-72063b7b3e9d',\n",
       " 'bdf1df04-a54d-4dfb-bdf4-92e7b077ce4e',\n",
       " '6f8e023c-1230-4b60-8e42-0078d7dc4b52',\n",
       " 'b8128093-42c4-426e-ba9a-a0004a59cff7',\n",
       " '7aceea91-3241-4d21-aae1-2c09071743c9',\n",
       " '669f840e-0756-4490-b89a-14c16f8d68b4',\n",
       " '8edda0a4-ed33-4aa9-8f69-4d8238bb2211',\n",
       " '4f1cf18c-af05-4a9e-983d-07824f2a3c73',\n",
       " 'd424e9ea-f125-4162-bce6-4f0bce41729d',\n",
       " '81890504-d0f1-4ce6-99a6-ab63404bfc80',\n",
       " 'cc2a66f7-0169-4bf1-9e1c-c164ceeba667',\n",
       " '481f9415-3376-4a59-a636-03a09adb9930',\n",
       " 'ca7a867c-172b-4789-932a-6e2bf94fdf8e',\n",
       " 'd6d3d28e-ebd1-4bf9-a8f2-0c4185d8aa15',\n",
       " '053079bd-7e74-4dce-ae11-498aa4f4a057',\n",
       " '3053f44c-dba4-4f3d-a6f2-922f7e702725',\n",
       " '5945e501-b57a-4862-9321-4c6f6307058c',\n",
       " '1c1ad0a4-819e-42da-8d4b-7e844e651642',\n",
       " '9fd6fcc4-e7b8-45a4-9f4e-67f127cc9758',\n",
       " '80a3f44e-36c7-4e38-9232-290c7e11a2c4',\n",
       " '151b4789-6816-458d-9272-dc44c565582a',\n",
       " 'c06091c7-22a8-4c8e-844f-e2422173f06c',\n",
       " 'b07d4684-5d86-4711-8c29-d3b26044184c',\n",
       " '07ab6298-7a4a-4247-88b0-94e0f7de496a',\n",
       " '5cae1247-fa72-41cc-8365-ef4b35c124d1',\n",
       " '2c107876-8568-45a4-9b7b-d2bccedfd949',\n",
       " '25950667-5ac9-4403-ad71-25b51ba33f91',\n",
       " 'b542b4b2-668c-4dfb-854c-2e08cdded931',\n",
       " '40e21204-26c2-43ab-9702-f47031160d97',\n",
       " 'c1bd05d6-0680-4c94-badf-63a030e4fd42',\n",
       " '628923c2-ccd0-4b0e-815c-9ee642475392',\n",
       " '7673f3fe-852d-4169-9e95-fdc51791cce6',\n",
       " '1a8da440-d2a0-4f2d-aedb-0ca71bf62071',\n",
       " '53ec78d5-b263-431a-8b60-1388ac3037a5',\n",
       " 'b679fe04-ae51-4250-ae1b-ece6490ae955',\n",
       " 'addf3e1b-8086-4fce-8bfc-218c373253d2',\n",
       " 'fe9e727f-e111-4f35-9217-37ad5fb64140',\n",
       " '60f711f8-01cc-4d94-b03f-3314bfb487dc',\n",
       " 'ce914a29-4073-4534-9bbe-a2b44fa7df89',\n",
       " '3e98ebf6-22bf-4f8d-a9a3-84c3ae42dbc0',\n",
       " 'e3c4812c-1bdc-4cb7-a89d-e1aa6dc75d5f',\n",
       " '8f8050c7-6598-44b2-a81b-043dd9df0582',\n",
       " 'adf8d71e-bb70-47cd-97e2-61cb6016ea0e',\n",
       " '78e1183e-086b-41a0-be19-5e6f6ff84bed',\n",
       " 'd11be6ef-d9fd-451e-a1cd-2f81136b65b8',\n",
       " '1c5a4e03-6582-4441-918f-9c00194e97d5',\n",
       " '6c9de1a0-1d41-4f08-ad98-b531e8ca761d',\n",
       " 'b38a00b5-5c2d-4d55-9dc0-c73c417a228f',\n",
       " '2a04a540-ef10-4a4d-9d27-ffd343c136f2',\n",
       " '4493222b-63d4-45e5-b981-d9153b95c713',\n",
       " 'edf871f7-db0b-4bed-a445-7bb8e5a903ae',\n",
       " '5e61c737-3b4a-4a2e-a08e-a44a924e23c5',\n",
       " '7b4ee26e-76b4-4ce8-a4d5-c75f914006dd',\n",
       " '4a2d6e3c-7ec6-4192-89ac-1b96bd42d100',\n",
       " '4cc22f3f-5461-4b72-a031-4475bbbda656',\n",
       " 'e04a535b-6a8b-42ce-8378-e03357f0d81c',\n",
       " '5f4d3d4d-5cde-4342-9870-d116c7b59ae5',\n",
       " 'dbae0bec-1a5e-4125-bd73-a8ef996fcee4',\n",
       " 'c0053b5d-eba3-43e3-b020-488785a67c03',\n",
       " '74b5f968-3863-4fbf-be1f-a34115e6b17d',\n",
       " 'e4b433bc-f3b6-4c03-8606-7e3af3dda5aa',\n",
       " '0224a4b4-655c-4d56-9fdf-9bc5f3199122',\n",
       " 'b25a395d-1fb8-4298-8034-0ebb618f4f49',\n",
       " '07ed7c34-d670-4fa6-bc67-c4b22c9ea33b',\n",
       " '4e53ec46-8ab1-4071-9755-e763be5f4aa0',\n",
       " '1d167ae4-d6ab-4db9-af0d-4bc7cc421c8d',\n",
       " '3fb27264-c362-4f89-b254-c03be08e506e']"
      ]
     },
     "execution_count": 55,
     "metadata": {},
     "output_type": "execute_result"
    }
   ],
   "source": [
    "embeddings = GoogleGenerativeAIEmbeddings(model=\"models/embedding-001\")\n",
    "documents = [Document(page_content=chunk) for chunk in chunks]\n",
    "# idx = [str(i) for i in range(1, len(documents)+1)]\n",
    "vectors = Chroma(embedding_function=embeddings, persist_directory=\"./db\")\n",
    "# vectors.add_documents(documents=documents, ids=idx)\n",
    "vectors.add_documents(documents=documents)"
   ]
  },
  {
   "cell_type": "code",
   "execution_count": 22,
   "id": "19c162b9-4946-4143-b600-2eac3c591833",
   "metadata": {},
   "outputs": [
    {
     "data": {
      "text/plain": [
       "['With the framework, you can assess your organization’s AI maturity and determine what ',\n",
       " 'you’ll need to bridge the gap to where you’d like to be. While we touch on the Google Cloud ',\n",
       " 'products, you can use this information however you would like: the framework is technology ',\n",
       " 'agnostic. We’re here to offer further guidance, if that alignment dovetails with your vision. ',\n",
       " 'We’ve worked hard to make AI accessible to all, not only ML researchers and engineers, but ',\n",
       " 'to a vast array of customers across industries as well. And our ongoing work in tooling, ',\n",
       " 'frameworks, datasets, and models is well documented in the open source community. AI and ',\n",
       " 'ML are central to who we are.',\n",
       " 'Whether or not we accompany you on the journey, however, our framework can help you find ',\n",
       " 'your way, from your initial changes all the way to becoming fully AI-powered. ',\n",
       " '12',\n",
       " 'Next steps',\n",
       " 'Find out more',\n",
       " 'To dive more deeply into the details of Google Cloud’s AI Adoption Framework, see Part 2 of ',\n",
       " 'this paper.']"
      ]
     },
     "execution_count": 22,
     "metadata": {},
     "output_type": "execute_result"
    }
   ],
   "source": [
    "retriever = vectors.as_retriever(\n",
    "    # search_type=\"similarity_score_threshold\",\n",
    "    search_kwargs={\"k\": 3}\n",
    ")\n",
    "\n",
    "docs = retriever.invoke(\"tell me about Google Cloud’s AI Adoption Framework\")\n",
    "docs[0].page_content.split(\"\\n\")"
   ]
  },
  {
   "cell_type": "code",
   "execution_count": 56,
   "id": "64b728f4-02d3-4614-bd22-28d4cb7262d9",
   "metadata": {},
   "outputs": [],
   "source": [
    "from langchain_core.prompts import (\n",
    "    ChatPromptTemplate,\n",
    "    PromptTemplate\n",
    ")\n",
    "from langchain.retrievers.multi_query import MultiQueryRetriever"
   ]
  },
  {
   "cell_type": "code",
   "execution_count": 57,
   "id": "60c688cc-c622-41ee-8919-a44a0e80c5cd",
   "metadata": {},
   "outputs": [],
   "source": [
    "QUERY_PROMPT = PromptTemplate(\n",
    "    input_variables=[\"question\"],\n",
    "    template=\"\"\"You are an AI language model assistant. Your task is to generate five\n",
    "    different versions of the given user question to retrieve relevant documents from a vector\n",
    "    database. By generating multiple perspectives on the user question, your goal is to help\n",
    "    the user overcome some of the limitations of the distance-based similarity search.\n",
    "    Provide these alternative questions separated by newlines.\n",
    "    Original question: {question}\"\"\",\n",
    ")"
   ]
  },
  {
   "cell_type": "code",
   "execution_count": 69,
   "id": "2057ab3d-5baf-4879-9d61-0b75aa4ab0d3",
   "metadata": {},
   "outputs": [
    {
     "data": {
      "text/plain": [
       "langchain_google_genai.llms.GoogleGenerativeAI"
      ]
     },
     "execution_count": 69,
     "metadata": {},
     "output_type": "execute_result"
    }
   ],
   "source": [
    "llm = GoogleGenerativeAI(model=\"gemini-1.5-flash-001\")\n",
    "type(llm)"
   ]
  },
  {
   "cell_type": "code",
   "execution_count": 64,
   "id": "683f15dd-8578-4a0b-88a9-47eb6ed26ce6",
   "metadata": {},
   "outputs": [],
   "source": [
    "retriever = MultiQueryRetriever.from_llm(\n",
    "    vectors.as_retriever(\n",
    "        search_kwargs={\"k\": 5}\n",
    "    ),\n",
    "    llm,\n",
    "    prompt=QUERY_PROMPT\n",
    ")"
   ]
  },
  {
   "cell_type": "code",
   "execution_count": 65,
   "id": "34dc4036-2201-474e-b1d5-36560a5166d7",
   "metadata": {},
   "outputs": [
    {
     "data": {
      "text/plain": [
       "langchain.retrievers.multi_query.MultiQueryRetriever"
      ]
     },
     "execution_count": 65,
     "metadata": {},
     "output_type": "execute_result"
    }
   ],
   "source": [
    "type(retriever)"
   ]
  },
  {
   "cell_type": "code",
   "execution_count": 60,
   "id": "84c0eda0-2430-4c2c-bbab-c885ae4179f9",
   "metadata": {},
   "outputs": [],
   "source": [
    "#RAG prompt\n",
    "\n",
    "template = \"\"\"Answer the questions based ONLY on the following context:\n",
    "{context}\n",
    "Question: {question}\n",
    "\"\"\"\n",
    "prompt = ChatPromptTemplate.from_template(template)"
   ]
  },
  {
   "cell_type": "code",
   "execution_count": 61,
   "id": "08572d82-0b2e-487d-b4ef-62d9d6dae020",
   "metadata": {},
   "outputs": [],
   "source": [
    "from langchain_core.runnables import RunnablePassthrough\n",
    "from langchain_core.output_parsers import StrOutputParser"
   ]
  },
  {
   "cell_type": "code",
   "execution_count": 62,
   "id": "fb6092e7-771d-4d72-9475-da42f670f99a",
   "metadata": {},
   "outputs": [],
   "source": [
    "chain = (\n",
    "    {\"context\": retriever, \"question\": RunnablePassthrough()}\n",
    "    | prompt\n",
    "    | llm\n",
    "    | StrOutputParser()\n",
    ")"
   ]
  },
  {
   "cell_type": "code",
   "execution_count": 63,
   "id": "9ddd3f3b-6371-4877-bfb0-1074ddaf94b0",
   "metadata": {},
   "outputs": [
    {
     "name": "stdin",
     "output_type": "stream",
     "text": [
      " tell me about google's role in ai\n"
     ]
    },
    {
     "data": {
      "text/plain": [
       "'Google Cloud offers a range of products and services to help organizations accelerate their AI journey. They offer prebuilt APIs, Cloud AutoML services, AI Platform, and data management tools. Google Cloud also provides a framework for AI adoption, which helps organizations build an effective AI capability. They offer professional consulting services and workshops to help organizations discover, assess, deploy, and upskill in ML.  \\n'"
      ]
     },
     "execution_count": 63,
     "metadata": {},
     "output_type": "execute_result"
    }
   ],
   "source": [
    "chain.invoke(input())"
   ]
  },
  {
   "cell_type": "code",
   "execution_count": 48,
   "id": "146ed6c8-8cc1-43ae-83e2-0514f5ce7a19",
   "metadata": {},
   "outputs": [],
   "source": [
    "from langchain.chains.combine_documents import create_stuff_documents_chain\n",
    "document_chain = create_stuff_documents_chain(llm,prompt)"
   ]
  },
  {
   "cell_type": "code",
   "execution_count": 66,
   "id": "7eb673d0-f5eb-4794-9dd9-166a938dd8a4",
   "metadata": {},
   "outputs": [
    {
     "data": {
      "text/plain": [
       "langchain_chroma.vectorstores.Chroma"
      ]
     },
     "execution_count": 66,
     "metadata": {},
     "output_type": "execute_result"
    }
   ],
   "source": [
    "type(vectors)"
   ]
  },
  {
   "cell_type": "code",
   "execution_count": 67,
   "id": "ba1f8804-989b-4557-9273-2df5288f7064",
   "metadata": {},
   "outputs": [],
   "source": [
    "def process_pdf(pdf_path: str) -> Chroma:\n",
    "    text_splitter = RecursiveCharacterTextSplitter(\n",
    "        separators=[\"\\n\\n\", \"\\n\", \". \", \" \", \"\"],\n",
    "        chunk_size=1000,\n",
    "        chunk_overlap=200,\n",
    "        length_function=len,\n",
    "    )\n",
    "    chunks = text_splitter.split_text(get_pdf_text(pdf_path))\n",
    "    embeddings = GoogleGenerativeAIEmbeddings(model=\"models/embedding-001\")\n",
    "    documents = [Document(page_content=chunk) for chunk in chunks]\n",
    "    vectors = Chroma(embedding_function=embeddings, persist_directory=\"./db\")\n",
    "    vectors.add_documents(documents=documents)\n",
    "    return vectors\n"
   ]
  },
  {
   "cell_type": "code",
   "execution_count": 68,
   "id": "25c3486e-9abf-414e-ac11-83b9d467ca0d",
   "metadata": {},
   "outputs": [
    {
     "data": {
      "text/plain": [
       "<langchain_chroma.vectorstores.Chroma at 0x7f99e35cf0e0>"
      ]
     },
     "execution_count": 68,
     "metadata": {},
     "output_type": "execute_result"
    }
   ],
   "source": [
    "process_pdf(\"pdf\")"
   ]
  },
  {
   "cell_type": "code",
   "execution_count": null,
   "id": "7ccbed69-dd9b-46f3-9cda-2aacd7b32426",
   "metadata": {},
   "outputs": [],
   "source": []
  },
  {
   "cell_type": "code",
   "execution_count": null,
   "id": "e0d49a8a-ed91-48c3-9aa6-9e0c6f83d255",
   "metadata": {},
   "outputs": [],
   "source": []
  },
  {
   "cell_type": "code",
   "execution_count": null,
   "id": "60862d4a-d6eb-4cb6-bb52-6be2f40f0b29",
   "metadata": {},
   "outputs": [],
   "source": []
  },
  {
   "cell_type": "code",
   "execution_count": null,
   "id": "a7e622b1-d118-4ed2-a949-9eeda4158033",
   "metadata": {},
   "outputs": [],
   "source": []
  },
  {
   "cell_type": "code",
   "execution_count": null,
   "id": "08b46011-d5b7-4333-8b28-0b6de2978810",
   "metadata": {},
   "outputs": [],
   "source": []
  },
  {
   "cell_type": "code",
   "execution_count": null,
   "id": "96f97198-1d48-4df1-9bfa-eedca7bff32b",
   "metadata": {},
   "outputs": [],
   "source": []
  },
  {
   "cell_type": "code",
   "execution_count": null,
   "id": "2cf601cb-65a1-4359-bbee-6a641ef41434",
   "metadata": {},
   "outputs": [],
   "source": []
  },
  {
   "cell_type": "code",
   "execution_count": null,
   "id": "dc7a2ef9-da7d-4c82-af86-6391cfde4257",
   "metadata": {},
   "outputs": [],
   "source": []
  },
  {
   "cell_type": "code",
   "execution_count": null,
   "id": "3efdab09-ad61-4a16-be65-afb456738760",
   "metadata": {},
   "outputs": [],
   "source": []
  },
  {
   "cell_type": "code",
   "execution_count": null,
   "id": "e9e4a5a2-5670-45e6-bda4-df80746369db",
   "metadata": {},
   "outputs": [],
   "source": []
  },
  {
   "cell_type": "code",
   "execution_count": null,
   "id": "b0218394-03b0-402b-bbab-4c874cff1e22",
   "metadata": {},
   "outputs": [],
   "source": []
  },
  {
   "cell_type": "code",
   "execution_count": null,
   "id": "c5631dc8-27dc-4ff3-a36c-3c0cb5c0ac82",
   "metadata": {},
   "outputs": [],
   "source": []
  },
  {
   "cell_type": "code",
   "execution_count": null,
   "id": "e6c4a403-c04c-46a5-81d3-1bf66c3ca6f4",
   "metadata": {},
   "outputs": [],
   "source": []
  },
  {
   "cell_type": "code",
   "execution_count": null,
   "id": "52610ab8-2504-4ba4-811b-e539c75401b0",
   "metadata": {},
   "outputs": [],
   "source": []
  },
  {
   "cell_type": "code",
   "execution_count": null,
   "id": "d575df21-40e4-488c-a869-64f94d5faefd",
   "metadata": {},
   "outputs": [],
   "source": []
  },
  {
   "cell_type": "code",
   "execution_count": null,
   "id": "0a85db0e-8745-4c0c-a343-3e5a00a1e27f",
   "metadata": {},
   "outputs": [],
   "source": []
  },
  {
   "cell_type": "code",
   "execution_count": null,
   "id": "d21ed51e-899f-424d-9ee7-7f0e25b974f5",
   "metadata": {},
   "outputs": [],
   "source": []
  },
  {
   "cell_type": "code",
   "execution_count": null,
   "id": "8487240a-d129-41b5-8145-47f8de87a1be",
   "metadata": {},
   "outputs": [],
   "source": []
  }
 ],
 "metadata": {
  "kernelspec": {
   "display_name": "Python 3 (ipykernel)",
   "language": "python",
   "name": "python3"
  },
  "language_info": {
   "codemirror_mode": {
    "name": "ipython",
    "version": 3
   },
   "file_extension": ".py",
   "mimetype": "text/x-python",
   "name": "python",
   "nbconvert_exporter": "python",
   "pygments_lexer": "ipython3",
   "version": "3.12.3"
  }
 },
 "nbformat": 4,
 "nbformat_minor": 5
}
